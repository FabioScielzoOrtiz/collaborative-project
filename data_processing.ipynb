{
 "cells": [
  {
   "cell_type": "code",
   "execution_count": 4,
   "metadata": {},
   "outputs": [],
   "source": [
    "import polars as pl\n",
    "from PyMachineLearning.preprocessing import encoder"
   ]
  },
  {
   "cell_type": "markdown",
   "metadata": {},
   "source": [
    "a comment"
   ]
  },
  {
   "cell_type": "code",
   "execution_count": 5,
   "metadata": {},
   "outputs": [],
   "source": [
    "def processing(df):\n",
    "    columns_to_exclude = ['', 'id','sq_mt_allotment','floor', 'neighborhood', 'district'] \n",
    "    df = df.select(pl.exclude(columns_to_exclude))\n",
    "    binary_cols = ['is_renewal_needed', 'has_lift', 'is_exterior', 'has_parking']\n",
    "    multi_cols = ['energy_certificate', 'house_type']\n",
    "    quant_cols = [x for x in df.columns if x not in binary_cols + multi_cols]\n",
    "    encoding = encoder(method='ordinal')\n",
    "    encoded_arr = encoding.fit_transform(df[binary_cols + multi_cols])\n",
    "    cat_df = pl.DataFrame(encoded_arr)\n",
    "    cat_df.columns =  binary_cols + multi_cols\n",
    "    cat_df = cat_df.with_columns([pl.col(col).cast(pl.Int64) for col in cat_df.columns])\n",
    "    quant_df = df[quant_cols]\n",
    "    df = pl.concat([quant_df, cat_df], how='horizontal')\n",
    "    response = 'buy_price'\n",
    "    quant_predictors = [x for x in quant_cols if x != response]\n",
    "    binary_predictors = [x for x in binary_cols if x != response]\n",
    "    multi_predictors = [x for x in multi_cols if x != response]\n",
    "    cat_predictors = binary_predictors + multi_predictors\n",
    "    p1, p2, p3 = len(quant_predictors), len(binary_predictors), len(multi_predictors)\n",
    "    return df, p1, p2, p3, response, quant_predictors, cat_predictors"
   ]
  },
  {
   "cell_type": "markdown",
   "metadata": {},
   "source": [
    "AAAAAAAAAAAAA"
   ]
  },
  {
   "cell_type": "code",
   "execution_count": 6,
   "metadata": {},
   "outputs": [],
   "source": [
    "madrid_houses_df = pl.read_csv('data/madrid_houses.csv')\n",
    "madrid_houses_df, p1, p2, p3, response, quant_predictors, cat_predictors = processing(madrid_houses_df)\n",
    "madrid_houses_df.write_csv('./data/madrid_houses_processed.csv', separator=\",\")"
   ]
  }
 ],
 "metadata": {
  "kernelspec": {
   "display_name": "Python 3",
   "language": "python",
   "name": "python3"
  },
  "language_info": {
   "codemirror_mode": {
    "name": "ipython",
    "version": 3
   },
   "file_extension": ".py",
   "mimetype": "text/x-python",
   "name": "python",
   "nbconvert_exporter": "python",
   "pygments_lexer": "ipython3",
   "version": "3.12.0"
  }
 },
 "nbformat": 4,
 "nbformat_minor": 2
}
